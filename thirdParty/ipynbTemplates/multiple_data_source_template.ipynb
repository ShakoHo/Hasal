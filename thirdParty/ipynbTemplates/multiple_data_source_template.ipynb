{
 "cells": [
  {
   "cell_type": "markdown",
   "metadata": {
    "scrolled": false
   },
   "source": [
    "# Multiple Data Source Merged Result\n"
   ]
  },
  {
   "cell_type": "code",
   "execution_count": 1,
   "metadata": {
    "scrolled": false
   },
   "outputs": [
    {
     "data": {
      "text/markdown": [
       "## Merged Result"
      ]
     },
     "metadata": {},
     "output_type": "display_data"
    },
    {
     "data": {
      "text/markdown": [
       "Report Generate Time: 2017-08-31 17:51:01"
      ]
     },
     "metadata": {},
     "output_type": "display_data"
    },
    {
     "data": {
      "text/markdown": [
       "21 Cases"
      ]
     },
     "metadata": {},
     "output_type": "display_data"
    },
    {
     "data": {
      "text/markdown": [
       "### test_firefox_amazon_ail_hover_related_product_thumbnail"
      ]
     },
     "metadata": {},
     "output_type": "display_data"
    },
    {
     "data": {
      "text/html": [
       "<div>\n",
       "<table border=\"1\" class=\"dataframe\">\n",
       "  <thead>\n",
       "    <tr style=\"text-align: right;\">\n",
       "      <th></th>\n",
       "      <th>ESR45</th>\n",
       "      <th>ESR52</th>\n",
       "      <th>Nightly_20170828</th>\n",
       "    </tr>\n",
       "  </thead>\n",
       "  <tbody>\n",
       "    <tr>\n",
       "      <th>count</th>\n",
       "      <td>6.000000</td>\n",
       "      <td>6.000000</td>\n",
       "      <td>6.000000</td>\n",
       "    </tr>\n",
       "    <tr>\n",
       "      <th>mean</th>\n",
       "      <td>433.333333</td>\n",
       "      <td>451.851852</td>\n",
       "      <td>407.406667</td>\n",
       "    </tr>\n",
       "    <tr>\n",
       "      <th>std</th>\n",
       "      <td>27.216553</td>\n",
       "      <td>25.978782</td>\n",
       "      <td>18.142554</td>\n",
       "    </tr>\n",
       "    <tr>\n",
       "      <th>min</th>\n",
       "      <td>400.000000</td>\n",
       "      <td>422.222222</td>\n",
       "      <td>400.000000</td>\n",
       "    </tr>\n",
       "    <tr>\n",
       "      <th>25%</th>\n",
       "      <td>422.222222</td>\n",
       "      <td>436.111111</td>\n",
       "      <td>400.000000</td>\n",
       "    </tr>\n",
       "    <tr>\n",
       "      <th>50%</th>\n",
       "      <td>422.222222</td>\n",
       "      <td>444.444444</td>\n",
       "      <td>400.000000</td>\n",
       "    </tr>\n",
       "    <tr>\n",
       "      <th>75%</th>\n",
       "      <td>455.555556</td>\n",
       "      <td>469.444444</td>\n",
       "      <td>400.000000</td>\n",
       "    </tr>\n",
       "    <tr>\n",
       "      <th>max</th>\n",
       "      <td>466.666667</td>\n",
       "      <td>488.888889</td>\n",
       "      <td>444.440000</td>\n",
       "    </tr>\n",
       "  </tbody>\n",
       "</table>\n",
       "</div>"
      ],
      "text/plain": [
       "            ESR45       ESR52  Nightly_20170828\n",
       "count    6.000000    6.000000          6.000000\n",
       "mean   433.333333  451.851852        407.406667\n",
       "std     27.216553   25.978782         18.142554\n",
       "min    400.000000  422.222222        400.000000\n",
       "25%    422.222222  436.111111        400.000000\n",
       "50%    422.222222  444.444444        400.000000\n",
       "75%    455.555556  469.444444        400.000000\n",
       "max    466.666667  488.888889        444.440000"
      ]
     },
     "metadata": {},
     "output_type": "display_data"
    },
    {
     "data": {
      "text/markdown": [
       "### test_firefox_amazon_ail_select_search_suggestion"
      ]
     },
     "metadata": {},
     "output_type": "display_data"
    },
    {
     "data": {
      "text/html": [
       "<div>\n",
       "<table border=\"1\" class=\"dataframe\">\n",
       "  <thead>\n",
       "    <tr style=\"text-align: right;\">\n",
       "      <th></th>\n",
       "      <th>ESR45</th>\n",
       "      <th>ESR52</th>\n",
       "      <th>Nightly_20170828</th>\n",
       "    </tr>\n",
       "  </thead>\n",
       "  <tbody>\n",
       "    <tr>\n",
       "      <th>count</th>\n",
       "      <td>6.000000</td>\n",
       "      <td>6.000000</td>\n",
       "      <td>6.000000</td>\n",
       "    </tr>\n",
       "    <tr>\n",
       "      <th>mean</th>\n",
       "      <td>29.629630</td>\n",
       "      <td>40.740741</td>\n",
       "      <td>18.516667</td>\n",
       "    </tr>\n",
       "    <tr>\n",
       "      <th>std</th>\n",
       "      <td>5.737753</td>\n",
       "      <td>9.072184</td>\n",
       "      <td>9.071277</td>\n",
       "    </tr>\n",
       "    <tr>\n",
       "      <th>min</th>\n",
       "      <td>22.222222</td>\n",
       "      <td>33.333333</td>\n",
       "      <td>11.110000</td>\n",
       "    </tr>\n",
       "    <tr>\n",
       "      <th>25%</th>\n",
       "      <td>25.000000</td>\n",
       "      <td>33.333333</td>\n",
       "      <td>11.110000</td>\n",
       "    </tr>\n",
       "    <tr>\n",
       "      <th>50%</th>\n",
       "      <td>33.333333</td>\n",
       "      <td>38.888889</td>\n",
       "      <td>16.665000</td>\n",
       "    </tr>\n",
       "    <tr>\n",
       "      <th>75%</th>\n",
       "      <td>33.333333</td>\n",
       "      <td>44.444444</td>\n",
       "      <td>22.220000</td>\n",
       "    </tr>\n",
       "    <tr>\n",
       "      <th>max</th>\n",
       "      <td>33.333333</td>\n",
       "      <td>55.555556</td>\n",
       "      <td>33.330000</td>\n",
       "    </tr>\n",
       "  </tbody>\n",
       "</table>\n",
       "</div>"
      ],
      "text/plain": [
       "           ESR45      ESR52  Nightly_20170828\n",
       "count   6.000000   6.000000          6.000000\n",
       "mean   29.629630  40.740741         18.516667\n",
       "std     5.737753   9.072184          9.071277\n",
       "min    22.222222  33.333333         11.110000\n",
       "25%    25.000000  33.333333         11.110000\n",
       "50%    33.333333  38.888889         16.665000\n",
       "75%    33.333333  44.444444         22.220000\n",
       "max    33.333333  55.555556         33.330000"
      ]
     },
     "metadata": {},
     "output_type": "display_data"
    },
    {
     "data": {
      "text/markdown": [
       "### test_firefox_amazon_ail_type_in_search_field"
      ]
     },
     "metadata": {},
     "output_type": "display_data"
    },
    {
     "data": {
      "text/html": [
       "<div>\n",
       "<table border=\"1\" class=\"dataframe\">\n",
       "  <thead>\n",
       "    <tr style=\"text-align: right;\">\n",
       "      <th></th>\n",
       "      <th>ESR45</th>\n",
       "      <th>ESR52</th>\n",
       "      <th>Nightly_20170828</th>\n",
       "    </tr>\n",
       "  </thead>\n",
       "  <tbody>\n",
       "    <tr>\n",
       "      <th>count</th>\n",
       "      <td>6.000000</td>\n",
       "      <td>6.000000</td>\n",
       "      <td>6.000000</td>\n",
       "    </tr>\n",
       "    <tr>\n",
       "      <th>mean</th>\n",
       "      <td>14.814815</td>\n",
       "      <td>27.777778</td>\n",
       "      <td>18.516667</td>\n",
       "    </tr>\n",
       "    <tr>\n",
       "      <th>std</th>\n",
       "      <td>8.364141</td>\n",
       "      <td>9.296223</td>\n",
       "      <td>9.071277</td>\n",
       "    </tr>\n",
       "    <tr>\n",
       "      <th>min</th>\n",
       "      <td>5.555556</td>\n",
       "      <td>11.111111</td>\n",
       "      <td>11.110000</td>\n",
       "    </tr>\n",
       "    <tr>\n",
       "      <th>25%</th>\n",
       "      <td>6.944444</td>\n",
       "      <td>25.000000</td>\n",
       "      <td>11.110000</td>\n",
       "    </tr>\n",
       "    <tr>\n",
       "      <th>50%</th>\n",
       "      <td>16.666667</td>\n",
       "      <td>33.333333</td>\n",
       "      <td>16.665000</td>\n",
       "    </tr>\n",
       "    <tr>\n",
       "      <th>75%</th>\n",
       "      <td>22.222222</td>\n",
       "      <td>33.333333</td>\n",
       "      <td>22.220000</td>\n",
       "    </tr>\n",
       "    <tr>\n",
       "      <th>max</th>\n",
       "      <td>22.222222</td>\n",
       "      <td>33.333333</td>\n",
       "      <td>33.330000</td>\n",
       "    </tr>\n",
       "  </tbody>\n",
       "</table>\n",
       "</div>"
      ],
      "text/plain": [
       "           ESR45      ESR52  Nightly_20170828\n",
       "count   6.000000   6.000000          6.000000\n",
       "mean   14.814815  27.777778         18.516667\n",
       "std     8.364141   9.296223          9.071277\n",
       "min     5.555556  11.111111         11.110000\n",
       "25%     6.944444  25.000000         11.110000\n",
       "50%    16.666667  33.333333         16.665000\n",
       "75%    22.222222  33.333333         22.220000\n",
       "max    22.222222  33.333333         33.330000"
      ]
     },
     "metadata": {},
     "output_type": "display_data"
    },
    {
     "data": {
      "text/markdown": [
       "### test_firefox_facebook_ail_click_close_chat_tab"
      ]
     },
     "metadata": {},
     "output_type": "display_data"
    },
    {
     "data": {
      "text/html": [
       "<div>\n",
       "<table border=\"1\" class=\"dataframe\">\n",
       "  <thead>\n",
       "    <tr style=\"text-align: right;\">\n",
       "      <th></th>\n",
       "      <th>ESR45</th>\n",
       "      <th>ESR52</th>\n",
       "      <th>Nightly_20170828</th>\n",
       "    </tr>\n",
       "  </thead>\n",
       "  <tbody>\n",
       "    <tr>\n",
       "      <th>count</th>\n",
       "      <td>6.000000</td>\n",
       "      <td>6.000000</td>\n",
       "      <td>6.000000</td>\n",
       "    </tr>\n",
       "    <tr>\n",
       "      <th>mean</th>\n",
       "      <td>85.185185</td>\n",
       "      <td>68.518519</td>\n",
       "      <td>53.703333</td>\n",
       "    </tr>\n",
       "    <tr>\n",
       "      <th>std</th>\n",
       "      <td>9.072184</td>\n",
       "      <td>14.768446</td>\n",
       "      <td>14.772236</td>\n",
       "    </tr>\n",
       "    <tr>\n",
       "      <th>min</th>\n",
       "      <td>66.666667</td>\n",
       "      <td>44.444444</td>\n",
       "      <td>33.330000</td>\n",
       "    </tr>\n",
       "    <tr>\n",
       "      <th>25%</th>\n",
       "      <td>88.888889</td>\n",
       "      <td>66.666667</td>\n",
       "      <td>44.440000</td>\n",
       "    </tr>\n",
       "    <tr>\n",
       "      <th>50%</th>\n",
       "      <td>88.888889</td>\n",
       "      <td>66.666667</td>\n",
       "      <td>55.555000</td>\n",
       "    </tr>\n",
       "    <tr>\n",
       "      <th>75%</th>\n",
       "      <td>88.888889</td>\n",
       "      <td>75.000000</td>\n",
       "      <td>66.670000</td>\n",
       "    </tr>\n",
       "    <tr>\n",
       "      <th>max</th>\n",
       "      <td>88.888889</td>\n",
       "      <td>88.888889</td>\n",
       "      <td>66.670000</td>\n",
       "    </tr>\n",
       "  </tbody>\n",
       "</table>\n",
       "</div>"
      ],
      "text/plain": [
       "           ESR45      ESR52  Nightly_20170828\n",
       "count   6.000000   6.000000          6.000000\n",
       "mean   85.185185  68.518519         53.703333\n",
       "std     9.072184  14.768446         14.772236\n",
       "min    66.666667  44.444444         33.330000\n",
       "25%    88.888889  66.666667         44.440000\n",
       "50%    88.888889  66.666667         55.555000\n",
       "75%    88.888889  75.000000         66.670000\n",
       "max    88.888889  88.888889         66.670000"
      ]
     },
     "metadata": {},
     "output_type": "display_data"
    },
    {
     "data": {
      "text/markdown": [
       "### test_firefox_facebook_ail_click_open_chat_tab"
      ]
     },
     "metadata": {},
     "output_type": "display_data"
    },
    {
     "data": {
      "text/html": [
       "<div>\n",
       "<table border=\"1\" class=\"dataframe\">\n",
       "  <thead>\n",
       "    <tr style=\"text-align: right;\">\n",
       "      <th></th>\n",
       "      <th>ESR45</th>\n",
       "      <th>ESR52</th>\n",
       "      <th>Nightly_20170828</th>\n",
       "    </tr>\n",
       "  </thead>\n",
       "  <tbody>\n",
       "    <tr>\n",
       "      <th>count</th>\n",
       "      <td>6.000000</td>\n",
       "      <td>6.000000</td>\n",
       "      <td>6.000000</td>\n",
       "    </tr>\n",
       "    <tr>\n",
       "      <th>mean</th>\n",
       "      <td>61.111111</td>\n",
       "      <td>62.962963</td>\n",
       "      <td>51.853333</td>\n",
       "    </tr>\n",
       "    <tr>\n",
       "      <th>std</th>\n",
       "      <td>9.296223</td>\n",
       "      <td>18.144368</td>\n",
       "      <td>11.478877</td>\n",
       "    </tr>\n",
       "    <tr>\n",
       "      <th>min</th>\n",
       "      <td>44.444444</td>\n",
       "      <td>44.444444</td>\n",
       "      <td>33.330000</td>\n",
       "    </tr>\n",
       "    <tr>\n",
       "      <th>25%</th>\n",
       "      <td>58.333333</td>\n",
       "      <td>47.222222</td>\n",
       "      <td>47.220000</td>\n",
       "    </tr>\n",
       "    <tr>\n",
       "      <th>50%</th>\n",
       "      <td>66.666667</td>\n",
       "      <td>61.111111</td>\n",
       "      <td>55.560000</td>\n",
       "    </tr>\n",
       "    <tr>\n",
       "      <th>75%</th>\n",
       "      <td>66.666667</td>\n",
       "      <td>75.000000</td>\n",
       "      <td>55.560000</td>\n",
       "    </tr>\n",
       "    <tr>\n",
       "      <th>max</th>\n",
       "      <td>66.666667</td>\n",
       "      <td>88.888889</td>\n",
       "      <td>66.670000</td>\n",
       "    </tr>\n",
       "  </tbody>\n",
       "</table>\n",
       "</div>"
      ],
      "text/plain": [
       "           ESR45      ESR52  Nightly_20170828\n",
       "count   6.000000   6.000000          6.000000\n",
       "mean   61.111111  62.962963         51.853333\n",
       "std     9.296223  18.144368         11.478877\n",
       "min    44.444444  44.444444         33.330000\n",
       "25%    58.333333  47.222222         47.220000\n",
       "50%    66.666667  61.111111         55.560000\n",
       "75%    66.666667  75.000000         55.560000\n",
       "max    66.666667  88.888889         66.670000"
      ]
     },
     "metadata": {},
     "output_type": "display_data"
    },
    {
     "data": {
      "text/markdown": [
       "### test_firefox_facebook_ail_click_open_chat_tab_emoji"
      ]
     },
     "metadata": {},
     "output_type": "display_data"
    },
    {
     "data": {
      "text/html": [
       "<div>\n",
       "<table border=\"1\" class=\"dataframe\">\n",
       "  <thead>\n",
       "    <tr style=\"text-align: right;\">\n",
       "      <th></th>\n",
       "      <th>ESR45</th>\n",
       "      <th>ESR52</th>\n",
       "      <th>Nightly_20170828</th>\n",
       "    </tr>\n",
       "  </thead>\n",
       "  <tbody>\n",
       "    <tr>\n",
       "      <th>count</th>\n",
       "      <td>6.000000</td>\n",
       "      <td>6.000000</td>\n",
       "      <td>6.000000</td>\n",
       "    </tr>\n",
       "    <tr>\n",
       "      <th>mean</th>\n",
       "      <td>72.222222</td>\n",
       "      <td>90.740741</td>\n",
       "      <td>46.296667</td>\n",
       "    </tr>\n",
       "    <tr>\n",
       "      <th>std</th>\n",
       "      <td>13.608276</td>\n",
       "      <td>10.924356</td>\n",
       "      <td>10.928350</td>\n",
       "    </tr>\n",
       "    <tr>\n",
       "      <th>min</th>\n",
       "      <td>66.666667</td>\n",
       "      <td>77.777778</td>\n",
       "      <td>33.330000</td>\n",
       "    </tr>\n",
       "    <tr>\n",
       "      <th>25%</th>\n",
       "      <td>66.666667</td>\n",
       "      <td>80.555556</td>\n",
       "      <td>36.107500</td>\n",
       "    </tr>\n",
       "    <tr>\n",
       "      <th>50%</th>\n",
       "      <td>66.666667</td>\n",
       "      <td>94.444444</td>\n",
       "      <td>50.000000</td>\n",
       "    </tr>\n",
       "    <tr>\n",
       "      <th>75%</th>\n",
       "      <td>66.666667</td>\n",
       "      <td>100.000000</td>\n",
       "      <td>55.560000</td>\n",
       "    </tr>\n",
       "    <tr>\n",
       "      <th>max</th>\n",
       "      <td>100.000000</td>\n",
       "      <td>100.000000</td>\n",
       "      <td>55.560000</td>\n",
       "    </tr>\n",
       "  </tbody>\n",
       "</table>\n",
       "</div>"
      ],
      "text/plain": [
       "            ESR45       ESR52  Nightly_20170828\n",
       "count    6.000000    6.000000          6.000000\n",
       "mean    72.222222   90.740741         46.296667\n",
       "std     13.608276   10.924356         10.928350\n",
       "min     66.666667   77.777778         33.330000\n",
       "25%     66.666667   80.555556         36.107500\n",
       "50%     66.666667   94.444444         50.000000\n",
       "75%     66.666667  100.000000         55.560000\n",
       "max    100.000000  100.000000         55.560000"
      ]
     },
     "metadata": {},
     "output_type": "display_data"
    },
    {
     "data": {
      "text/markdown": [
       "### test_firefox_facebook_ail_click_photo_viewer_right_arrow"
      ]
     },
     "metadata": {},
     "output_type": "display_data"
    },
    {
     "data": {
      "text/html": [
       "<div>\n",
       "<table border=\"1\" class=\"dataframe\">\n",
       "  <thead>\n",
       "    <tr style=\"text-align: right;\">\n",
       "      <th></th>\n",
       "      <th>ESR45</th>\n",
       "      <th>ESR52</th>\n",
       "      <th>Nightly_20170828</th>\n",
       "    </tr>\n",
       "  </thead>\n",
       "  <tbody>\n",
       "    <tr>\n",
       "      <th>count</th>\n",
       "      <td>6.000000</td>\n",
       "      <td>6.000000</td>\n",
       "      <td>6.000000</td>\n",
       "    </tr>\n",
       "    <tr>\n",
       "      <th>mean</th>\n",
       "      <td>62.962963</td>\n",
       "      <td>72.222222</td>\n",
       "      <td>70.373333</td>\n",
       "    </tr>\n",
       "    <tr>\n",
       "      <th>std</th>\n",
       "      <td>9.072184</td>\n",
       "      <td>9.296223</td>\n",
       "      <td>5.737179</td>\n",
       "    </tr>\n",
       "    <tr>\n",
       "      <th>min</th>\n",
       "      <td>44.444444</td>\n",
       "      <td>66.666667</td>\n",
       "      <td>66.670000</td>\n",
       "    </tr>\n",
       "    <tr>\n",
       "      <th>25%</th>\n",
       "      <td>66.666667</td>\n",
       "      <td>66.666667</td>\n",
       "      <td>66.670000</td>\n",
       "    </tr>\n",
       "    <tr>\n",
       "      <th>50%</th>\n",
       "      <td>66.666667</td>\n",
       "      <td>66.666667</td>\n",
       "      <td>66.670000</td>\n",
       "    </tr>\n",
       "    <tr>\n",
       "      <th>75%</th>\n",
       "      <td>66.666667</td>\n",
       "      <td>75.000000</td>\n",
       "      <td>75.002500</td>\n",
       "    </tr>\n",
       "    <tr>\n",
       "      <th>max</th>\n",
       "      <td>66.666667</td>\n",
       "      <td>88.888889</td>\n",
       "      <td>77.780000</td>\n",
       "    </tr>\n",
       "  </tbody>\n",
       "</table>\n",
       "</div>"
      ],
      "text/plain": [
       "           ESR45      ESR52  Nightly_20170828\n",
       "count   6.000000   6.000000          6.000000\n",
       "mean   62.962963  72.222222         70.373333\n",
       "std     9.072184   9.296223          5.737179\n",
       "min    44.444444  66.666667         66.670000\n",
       "25%    66.666667  66.666667         66.670000\n",
       "50%    66.666667  66.666667         66.670000\n",
       "75%    66.666667  75.000000         75.002500\n",
       "max    66.666667  88.888889         77.780000"
      ]
     },
     "metadata": {},
     "output_type": "display_data"
    },
    {
     "data": {
      "text/markdown": [
       "### test_firefox_facebook_ail_scroll_home_1_txt"
      ]
     },
     "metadata": {},
     "output_type": "display_data"
    },
    {
     "data": {
      "text/html": [
       "<div>\n",
       "<table border=\"1\" class=\"dataframe\">\n",
       "  <thead>\n",
       "    <tr style=\"text-align: right;\">\n",
       "      <th></th>\n",
       "      <th>ESR45</th>\n",
       "      <th>ESR52</th>\n",
       "      <th>Nightly_20170828</th>\n",
       "    </tr>\n",
       "  </thead>\n",
       "  <tbody>\n",
       "    <tr>\n",
       "      <th>count</th>\n",
       "      <td>6.000000</td>\n",
       "      <td>6.000000</td>\n",
       "      <td>6.000000</td>\n",
       "    </tr>\n",
       "    <tr>\n",
       "      <th>mean</th>\n",
       "      <td>51.851852</td>\n",
       "      <td>37.037037</td>\n",
       "      <td>44.443333</td>\n",
       "    </tr>\n",
       "    <tr>\n",
       "      <th>std</th>\n",
       "      <td>5.737753</td>\n",
       "      <td>9.072184</td>\n",
       "      <td>9.941559</td>\n",
       "    </tr>\n",
       "    <tr>\n",
       "      <th>min</th>\n",
       "      <td>44.444444</td>\n",
       "      <td>33.333333</td>\n",
       "      <td>33.330000</td>\n",
       "    </tr>\n",
       "    <tr>\n",
       "      <th>25%</th>\n",
       "      <td>47.222222</td>\n",
       "      <td>33.333333</td>\n",
       "      <td>36.107500</td>\n",
       "    </tr>\n",
       "    <tr>\n",
       "      <th>50%</th>\n",
       "      <td>55.555556</td>\n",
       "      <td>33.333333</td>\n",
       "      <td>44.440000</td>\n",
       "    </tr>\n",
       "    <tr>\n",
       "      <th>75%</th>\n",
       "      <td>55.555556</td>\n",
       "      <td>33.333333</td>\n",
       "      <td>52.780000</td>\n",
       "    </tr>\n",
       "    <tr>\n",
       "      <th>max</th>\n",
       "      <td>55.555556</td>\n",
       "      <td>55.555556</td>\n",
       "      <td>55.560000</td>\n",
       "    </tr>\n",
       "  </tbody>\n",
       "</table>\n",
       "</div>"
      ],
      "text/plain": [
       "           ESR45      ESR52  Nightly_20170828\n",
       "count   6.000000   6.000000          6.000000\n",
       "mean   51.851852  37.037037         44.443333\n",
       "std     5.737753   9.072184          9.941559\n",
       "min    44.444444  33.333333         33.330000\n",
       "25%    47.222222  33.333333         36.107500\n",
       "50%    55.555556  33.333333         44.440000\n",
       "75%    55.555556  33.333333         52.780000\n",
       "max    55.555556  55.555556         55.560000"
      ]
     },
     "metadata": {},
     "output_type": "display_data"
    },
    {
     "data": {
      "text/markdown": [
       "### test_firefox_facebook_ail_type_comment_1_txt"
      ]
     },
     "metadata": {},
     "output_type": "display_data"
    },
    {
     "data": {
      "text/html": [
       "<div>\n",
       "<table border=\"1\" class=\"dataframe\">\n",
       "  <thead>\n",
       "    <tr style=\"text-align: right;\">\n",
       "      <th></th>\n",
       "      <th>ESR45</th>\n",
       "      <th>ESR52</th>\n",
       "      <th>Nightly_20170828</th>\n",
       "    </tr>\n",
       "  </thead>\n",
       "  <tbody>\n",
       "    <tr>\n",
       "      <th>count</th>\n",
       "      <td>6.000000</td>\n",
       "      <td>6.000000</td>\n",
       "      <td>6.000000</td>\n",
       "    </tr>\n",
       "    <tr>\n",
       "      <th>mean</th>\n",
       "      <td>31.481481</td>\n",
       "      <td>42.592593</td>\n",
       "      <td>20.368333</td>\n",
       "    </tr>\n",
       "    <tr>\n",
       "      <th>std</th>\n",
       "      <td>4.536092</td>\n",
       "      <td>8.364141</td>\n",
       "      <td>8.363304</td>\n",
       "    </tr>\n",
       "    <tr>\n",
       "      <th>min</th>\n",
       "      <td>22.222222</td>\n",
       "      <td>33.333333</td>\n",
       "      <td>11.110000</td>\n",
       "    </tr>\n",
       "    <tr>\n",
       "      <th>25%</th>\n",
       "      <td>33.333333</td>\n",
       "      <td>36.111111</td>\n",
       "      <td>13.887500</td>\n",
       "    </tr>\n",
       "    <tr>\n",
       "      <th>50%</th>\n",
       "      <td>33.333333</td>\n",
       "      <td>44.444444</td>\n",
       "      <td>22.220000</td>\n",
       "    </tr>\n",
       "    <tr>\n",
       "      <th>75%</th>\n",
       "      <td>33.333333</td>\n",
       "      <td>44.444444</td>\n",
       "      <td>22.220000</td>\n",
       "    </tr>\n",
       "    <tr>\n",
       "      <th>max</th>\n",
       "      <td>33.333333</td>\n",
       "      <td>55.555556</td>\n",
       "      <td>33.330000</td>\n",
       "    </tr>\n",
       "  </tbody>\n",
       "</table>\n",
       "</div>"
      ],
      "text/plain": [
       "           ESR45      ESR52  Nightly_20170828\n",
       "count   6.000000   6.000000          6.000000\n",
       "mean   31.481481  42.592593         20.368333\n",
       "std     4.536092   8.364141          8.363304\n",
       "min    22.222222  33.333333         11.110000\n",
       "25%    33.333333  36.111111         13.887500\n",
       "50%    33.333333  44.444444         22.220000\n",
       "75%    33.333333  44.444444         22.220000\n",
       "max    33.333333  55.555556         33.330000"
      ]
     },
     "metadata": {},
     "output_type": "display_data"
    },
    {
     "data": {
      "text/markdown": [
       "### test_firefox_facebook_ail_type_composerbox_1_txt"
      ]
     },
     "metadata": {},
     "output_type": "display_data"
    },
    {
     "data": {
      "text/html": [
       "<div>\n",
       "<table border=\"1\" class=\"dataframe\">\n",
       "  <thead>\n",
       "    <tr style=\"text-align: right;\">\n",
       "      <th></th>\n",
       "      <th>ESR45</th>\n",
       "      <th>ESR52</th>\n",
       "      <th>Nightly_20170828</th>\n",
       "    </tr>\n",
       "  </thead>\n",
       "  <tbody>\n",
       "    <tr>\n",
       "      <th>count</th>\n",
       "      <td>6.000000</td>\n",
       "      <td>6.000000</td>\n",
       "      <td>6.000000</td>\n",
       "    </tr>\n",
       "    <tr>\n",
       "      <th>mean</th>\n",
       "      <td>81.481481</td>\n",
       "      <td>59.259259</td>\n",
       "      <td>48.146667</td>\n",
       "    </tr>\n",
       "    <tr>\n",
       "      <th>std</th>\n",
       "      <td>25.010286</td>\n",
       "      <td>13.456224</td>\n",
       "      <td>15.184029</td>\n",
       "    </tr>\n",
       "    <tr>\n",
       "      <th>min</th>\n",
       "      <td>33.333333</td>\n",
       "      <td>33.333333</td>\n",
       "      <td>33.330000</td>\n",
       "    </tr>\n",
       "    <tr>\n",
       "      <th>25%</th>\n",
       "      <td>80.555556</td>\n",
       "      <td>58.333333</td>\n",
       "      <td>36.107500</td>\n",
       "    </tr>\n",
       "    <tr>\n",
       "      <th>50%</th>\n",
       "      <td>88.888889</td>\n",
       "      <td>66.666667</td>\n",
       "      <td>44.440000</td>\n",
       "    </tr>\n",
       "    <tr>\n",
       "      <th>75%</th>\n",
       "      <td>97.222222</td>\n",
       "      <td>66.666667</td>\n",
       "      <td>61.112500</td>\n",
       "    </tr>\n",
       "    <tr>\n",
       "      <th>max</th>\n",
       "      <td>100.000000</td>\n",
       "      <td>66.666667</td>\n",
       "      <td>66.670000</td>\n",
       "    </tr>\n",
       "  </tbody>\n",
       "</table>\n",
       "</div>"
      ],
      "text/plain": [
       "            ESR45      ESR52  Nightly_20170828\n",
       "count    6.000000   6.000000          6.000000\n",
       "mean    81.481481  59.259259         48.146667\n",
       "std     25.010286  13.456224         15.184029\n",
       "min     33.333333  33.333333         33.330000\n",
       "25%     80.555556  58.333333         36.107500\n",
       "50%     88.888889  66.666667         44.440000\n",
       "75%     97.222222  66.666667         61.112500\n",
       "max    100.000000  66.666667         66.670000"
      ]
     },
     "metadata": {},
     "output_type": "display_data"
    },
    {
     "data": {
      "text/markdown": [
       "### test_firefox_facebook_ail_type_message_1_txt"
      ]
     },
     "metadata": {},
     "output_type": "display_data"
    },
    {
     "data": {
      "text/html": [
       "<div>\n",
       "<table border=\"1\" class=\"dataframe\">\n",
       "  <thead>\n",
       "    <tr style=\"text-align: right;\">\n",
       "      <th></th>\n",
       "      <th>ESR45</th>\n",
       "      <th>ESR52</th>\n",
       "      <th>Nightly_20170828</th>\n",
       "    </tr>\n",
       "  </thead>\n",
       "  <tbody>\n",
       "    <tr>\n",
       "      <th>count</th>\n",
       "      <td>6.000000</td>\n",
       "      <td>6.000000</td>\n",
       "      <td>6.000000</td>\n",
       "    </tr>\n",
       "    <tr>\n",
       "      <th>mean</th>\n",
       "      <td>29.629630</td>\n",
       "      <td>24.074074</td>\n",
       "      <td>27.778333</td>\n",
       "    </tr>\n",
       "    <tr>\n",
       "      <th>std</th>\n",
       "      <td>5.737753</td>\n",
       "      <td>8.364141</td>\n",
       "      <td>21.945556</td>\n",
       "    </tr>\n",
       "    <tr>\n",
       "      <th>min</th>\n",
       "      <td>22.222222</td>\n",
       "      <td>11.111111</td>\n",
       "      <td>11.110000</td>\n",
       "    </tr>\n",
       "    <tr>\n",
       "      <th>25%</th>\n",
       "      <td>25.000000</td>\n",
       "      <td>22.222222</td>\n",
       "      <td>11.110000</td>\n",
       "    </tr>\n",
       "    <tr>\n",
       "      <th>50%</th>\n",
       "      <td>33.333333</td>\n",
       "      <td>22.222222</td>\n",
       "      <td>16.665000</td>\n",
       "    </tr>\n",
       "    <tr>\n",
       "      <th>75%</th>\n",
       "      <td>33.333333</td>\n",
       "      <td>30.555556</td>\n",
       "      <td>47.225000</td>\n",
       "    </tr>\n",
       "    <tr>\n",
       "      <th>max</th>\n",
       "      <td>33.333333</td>\n",
       "      <td>33.333333</td>\n",
       "      <td>55.560000</td>\n",
       "    </tr>\n",
       "  </tbody>\n",
       "</table>\n",
       "</div>"
      ],
      "text/plain": [
       "           ESR45      ESR52  Nightly_20170828\n",
       "count   6.000000   6.000000          6.000000\n",
       "mean   29.629630  24.074074         27.778333\n",
       "std     5.737753   8.364141         21.945556\n",
       "min    22.222222  11.111111         11.110000\n",
       "25%    25.000000  22.222222         11.110000\n",
       "50%    33.333333  22.222222         16.665000\n",
       "75%    33.333333  30.555556         47.225000\n",
       "max    33.333333  33.333333         55.560000"
      ]
     },
     "metadata": {},
     "output_type": "display_data"
    },
    {
     "data": {
      "text/markdown": [
       "### test_firefox_gdoc_ail_pagedown_10_text"
      ]
     },
     "metadata": {},
     "output_type": "display_data"
    },
    {
     "data": {
      "text/html": [
       "<div>\n",
       "<table border=\"1\" class=\"dataframe\">\n",
       "  <thead>\n",
       "    <tr style=\"text-align: right;\">\n",
       "      <th></th>\n",
       "      <th>Nightly_20170828</th>\n",
       "    </tr>\n",
       "  </thead>\n",
       "  <tbody>\n",
       "    <tr>\n",
       "      <th>count</th>\n",
       "      <td>6.000000</td>\n",
       "    </tr>\n",
       "    <tr>\n",
       "      <th>mean</th>\n",
       "      <td>25.923333</td>\n",
       "    </tr>\n",
       "    <tr>\n",
       "      <th>std</th>\n",
       "      <td>9.071277</td>\n",
       "    </tr>\n",
       "    <tr>\n",
       "      <th>min</th>\n",
       "      <td>11.110000</td>\n",
       "    </tr>\n",
       "    <tr>\n",
       "      <th>25%</th>\n",
       "      <td>22.220000</td>\n",
       "    </tr>\n",
       "    <tr>\n",
       "      <th>50%</th>\n",
       "      <td>27.775000</td>\n",
       "    </tr>\n",
       "    <tr>\n",
       "      <th>75%</th>\n",
       "      <td>33.330000</td>\n",
       "    </tr>\n",
       "    <tr>\n",
       "      <th>max</th>\n",
       "      <td>33.330000</td>\n",
       "    </tr>\n",
       "  </tbody>\n",
       "</table>\n",
       "</div>"
      ],
      "text/plain": [
       "       Nightly_20170828\n",
       "count          6.000000\n",
       "mean          25.923333\n",
       "std            9.071277\n",
       "min           11.110000\n",
       "25%           22.220000\n",
       "50%           27.775000\n",
       "75%           33.330000\n",
       "max           33.330000"
      ]
     },
     "metadata": {},
     "output_type": "display_data"
    },
    {
     "data": {
      "text/markdown": [
       "### test_firefox_gmail_ail_compose_new_mail_via_keyboard"
      ]
     },
     "metadata": {},
     "output_type": "display_data"
    },
    {
     "data": {
      "text/html": [
       "<div>\n",
       "<table border=\"1\" class=\"dataframe\">\n",
       "  <thead>\n",
       "    <tr style=\"text-align: right;\">\n",
       "      <th></th>\n",
       "      <th>ESR45</th>\n",
       "      <th>ESR52</th>\n",
       "      <th>Nightly_20170828</th>\n",
       "    </tr>\n",
       "  </thead>\n",
       "  <tbody>\n",
       "    <tr>\n",
       "      <th>count</th>\n",
       "      <td>6.000000</td>\n",
       "      <td>6.000000</td>\n",
       "      <td>6.000000</td>\n",
       "    </tr>\n",
       "    <tr>\n",
       "      <th>mean</th>\n",
       "      <td>248.148148</td>\n",
       "      <td>244.444444</td>\n",
       "      <td>214.813333</td>\n",
       "    </tr>\n",
       "    <tr>\n",
       "      <th>std</th>\n",
       "      <td>40.774397</td>\n",
       "      <td>28.109135</td>\n",
       "      <td>16.726608</td>\n",
       "    </tr>\n",
       "    <tr>\n",
       "      <th>min</th>\n",
       "      <td>200.000000</td>\n",
       "      <td>222.222222</td>\n",
       "      <td>188.890000</td>\n",
       "    </tr>\n",
       "    <tr>\n",
       "      <th>25%</th>\n",
       "      <td>233.333333</td>\n",
       "      <td>233.333333</td>\n",
       "      <td>205.555000</td>\n",
       "    </tr>\n",
       "    <tr>\n",
       "      <th>50%</th>\n",
       "      <td>238.888889</td>\n",
       "      <td>233.333333</td>\n",
       "      <td>222.220000</td>\n",
       "    </tr>\n",
       "    <tr>\n",
       "      <th>75%</th>\n",
       "      <td>252.777778</td>\n",
       "      <td>241.666667</td>\n",
       "      <td>222.220000</td>\n",
       "    </tr>\n",
       "    <tr>\n",
       "      <th>max</th>\n",
       "      <td>322.222222</td>\n",
       "      <td>300.000000</td>\n",
       "      <td>233.330000</td>\n",
       "    </tr>\n",
       "  </tbody>\n",
       "</table>\n",
       "</div>"
      ],
      "text/plain": [
       "            ESR45       ESR52  Nightly_20170828\n",
       "count    6.000000    6.000000          6.000000\n",
       "mean   248.148148  244.444444        214.813333\n",
       "std     40.774397   28.109135         16.726608\n",
       "min    200.000000  222.222222        188.890000\n",
       "25%    233.333333  233.333333        205.555000\n",
       "50%    238.888889  233.333333        222.220000\n",
       "75%    252.777778  241.666667        222.220000\n",
       "max    322.222222  300.000000        233.330000"
      ]
     },
     "metadata": {},
     "output_type": "display_data"
    },
    {
     "data": {
      "text/markdown": [
       "### test_firefox_gmail_ail_open_mail"
      ]
     },
     "metadata": {},
     "output_type": "display_data"
    },
    {
     "data": {
      "text/html": [
       "<div>\n",
       "<table border=\"1\" class=\"dataframe\">\n",
       "  <thead>\n",
       "    <tr style=\"text-align: right;\">\n",
       "      <th></th>\n",
       "      <th>ESR45</th>\n",
       "      <th>ESR52</th>\n",
       "      <th>Nightly_20170828</th>\n",
       "    </tr>\n",
       "  </thead>\n",
       "  <tbody>\n",
       "    <tr>\n",
       "      <th>count</th>\n",
       "      <td>6.000000</td>\n",
       "      <td>6.000000</td>\n",
       "      <td>6.000000</td>\n",
       "    </tr>\n",
       "    <tr>\n",
       "      <th>mean</th>\n",
       "      <td>207.407407</td>\n",
       "      <td>296.296296</td>\n",
       "      <td>270.370000</td>\n",
       "    </tr>\n",
       "    <tr>\n",
       "      <th>std</th>\n",
       "      <td>21.848713</td>\n",
       "      <td>106.959475</td>\n",
       "      <td>98.045047</td>\n",
       "    </tr>\n",
       "    <tr>\n",
       "      <th>min</th>\n",
       "      <td>177.777778</td>\n",
       "      <td>211.111111</td>\n",
       "      <td>177.780000</td>\n",
       "    </tr>\n",
       "    <tr>\n",
       "      <th>25%</th>\n",
       "      <td>200.000000</td>\n",
       "      <td>225.000000</td>\n",
       "      <td>191.667500</td>\n",
       "    </tr>\n",
       "    <tr>\n",
       "      <th>50%</th>\n",
       "      <td>200.000000</td>\n",
       "      <td>238.888889</td>\n",
       "      <td>250.000000</td>\n",
       "    </tr>\n",
       "    <tr>\n",
       "      <th>75%</th>\n",
       "      <td>225.000000</td>\n",
       "      <td>377.777778</td>\n",
       "      <td>324.997500</td>\n",
       "    </tr>\n",
       "    <tr>\n",
       "      <th>max</th>\n",
       "      <td>233.333333</td>\n",
       "      <td>444.444444</td>\n",
       "      <td>422.220000</td>\n",
       "    </tr>\n",
       "  </tbody>\n",
       "</table>\n",
       "</div>"
      ],
      "text/plain": [
       "            ESR45       ESR52  Nightly_20170828\n",
       "count    6.000000    6.000000          6.000000\n",
       "mean   207.407407  296.296296        270.370000\n",
       "std     21.848713  106.959475         98.045047\n",
       "min    177.777778  211.111111        177.780000\n",
       "25%    200.000000  225.000000        191.667500\n",
       "50%    200.000000  238.888889        250.000000\n",
       "75%    225.000000  377.777778        324.997500\n",
       "max    233.333333  444.444444        422.220000"
      ]
     },
     "metadata": {},
     "output_type": "display_data"
    },
    {
     "data": {
      "text/markdown": [
       "### test_firefox_gmail_ail_reply_mail"
      ]
     },
     "metadata": {},
     "output_type": "display_data"
    },
    {
     "data": {
      "text/html": [
       "<div>\n",
       "<table border=\"1\" class=\"dataframe\">\n",
       "  <thead>\n",
       "    <tr style=\"text-align: right;\">\n",
       "      <th></th>\n",
       "      <th>ESR45</th>\n",
       "      <th>ESR52</th>\n",
       "      <th>Nightly_20170828</th>\n",
       "    </tr>\n",
       "  </thead>\n",
       "  <tbody>\n",
       "    <tr>\n",
       "      <th>count</th>\n",
       "      <td>6.000000</td>\n",
       "      <td>6.000000</td>\n",
       "      <td>6.000000</td>\n",
       "    </tr>\n",
       "    <tr>\n",
       "      <th>mean</th>\n",
       "      <td>220.370370</td>\n",
       "      <td>262.962963</td>\n",
       "      <td>238.888333</td>\n",
       "    </tr>\n",
       "    <tr>\n",
       "      <th>std</th>\n",
       "      <td>12.989391</td>\n",
       "      <td>18.144368</td>\n",
       "      <td>19.565717</td>\n",
       "    </tr>\n",
       "    <tr>\n",
       "      <th>min</th>\n",
       "      <td>200.000000</td>\n",
       "      <td>244.444444</td>\n",
       "      <td>211.110000</td>\n",
       "    </tr>\n",
       "    <tr>\n",
       "      <th>25%</th>\n",
       "      <td>213.888889</td>\n",
       "      <td>247.222222</td>\n",
       "      <td>233.330000</td>\n",
       "    </tr>\n",
       "    <tr>\n",
       "      <th>50%</th>\n",
       "      <td>222.222222</td>\n",
       "      <td>261.111111</td>\n",
       "      <td>233.330000</td>\n",
       "    </tr>\n",
       "    <tr>\n",
       "      <th>75%</th>\n",
       "      <td>230.555556</td>\n",
       "      <td>275.000000</td>\n",
       "      <td>250.002500</td>\n",
       "    </tr>\n",
       "    <tr>\n",
       "      <th>max</th>\n",
       "      <td>233.333333</td>\n",
       "      <td>288.888889</td>\n",
       "      <td>266.670000</td>\n",
       "    </tr>\n",
       "  </tbody>\n",
       "</table>\n",
       "</div>"
      ],
      "text/plain": [
       "            ESR45       ESR52  Nightly_20170828\n",
       "count    6.000000    6.000000          6.000000\n",
       "mean   220.370370  262.962963        238.888333\n",
       "std     12.989391   18.144368         19.565717\n",
       "min    200.000000  244.444444        211.110000\n",
       "25%    213.888889  247.222222        233.330000\n",
       "50%    222.222222  261.111111        233.330000\n",
       "75%    230.555556  275.000000        250.002500\n",
       "max    233.333333  288.888889        266.670000"
      ]
     },
     "metadata": {},
     "output_type": "display_data"
    },
    {
     "data": {
      "text/markdown": [
       "### test_firefox_gmail_ail_type_in_reply_field"
      ]
     },
     "metadata": {},
     "output_type": "display_data"
    },
    {
     "data": {
      "text/html": [
       "<div>\n",
       "<table border=\"1\" class=\"dataframe\">\n",
       "  <thead>\n",
       "    <tr style=\"text-align: right;\">\n",
       "      <th></th>\n",
       "      <th>ESR45</th>\n",
       "      <th>ESR52</th>\n",
       "      <th>Nightly_20170828</th>\n",
       "    </tr>\n",
       "  </thead>\n",
       "  <tbody>\n",
       "    <tr>\n",
       "      <th>count</th>\n",
       "      <td>6.000000</td>\n",
       "      <td>6.000000</td>\n",
       "      <td>6.000000</td>\n",
       "    </tr>\n",
       "    <tr>\n",
       "      <th>mean</th>\n",
       "      <td>38.888889</td>\n",
       "      <td>24.074074</td>\n",
       "      <td>35.183333</td>\n",
       "    </tr>\n",
       "    <tr>\n",
       "      <th>std</th>\n",
       "      <td>9.296223</td>\n",
       "      <td>8.364141</td>\n",
       "      <td>10.926993</td>\n",
       "    </tr>\n",
       "    <tr>\n",
       "      <th>min</th>\n",
       "      <td>33.333333</td>\n",
       "      <td>11.111111</td>\n",
       "      <td>22.220000</td>\n",
       "    </tr>\n",
       "    <tr>\n",
       "      <th>25%</th>\n",
       "      <td>33.333333</td>\n",
       "      <td>22.222222</td>\n",
       "      <td>33.330000</td>\n",
       "    </tr>\n",
       "    <tr>\n",
       "      <th>50%</th>\n",
       "      <td>33.333333</td>\n",
       "      <td>22.222222</td>\n",
       "      <td>33.330000</td>\n",
       "    </tr>\n",
       "    <tr>\n",
       "      <th>75%</th>\n",
       "      <td>41.666667</td>\n",
       "      <td>30.555556</td>\n",
       "      <td>33.330000</td>\n",
       "    </tr>\n",
       "    <tr>\n",
       "      <th>max</th>\n",
       "      <td>55.555556</td>\n",
       "      <td>33.333333</td>\n",
       "      <td>55.560000</td>\n",
       "    </tr>\n",
       "  </tbody>\n",
       "</table>\n",
       "</div>"
      ],
      "text/plain": [
       "           ESR45      ESR52  Nightly_20170828\n",
       "count   6.000000   6.000000          6.000000\n",
       "mean   38.888889  24.074074         35.183333\n",
       "std     9.296223   8.364141         10.926993\n",
       "min    33.333333  11.111111         22.220000\n",
       "25%    33.333333  22.222222         33.330000\n",
       "50%    33.333333  22.222222         33.330000\n",
       "75%    41.666667  30.555556         33.330000\n",
       "max    55.555556  33.333333         55.560000"
      ]
     },
     "metadata": {},
     "output_type": "display_data"
    },
    {
     "data": {
      "text/markdown": [
       "### test_firefox_gsearch_ail_select_image_cat"
      ]
     },
     "metadata": {},
     "output_type": "display_data"
    },
    {
     "data": {
      "text/html": [
       "<div>\n",
       "<table border=\"1\" class=\"dataframe\">\n",
       "  <thead>\n",
       "    <tr style=\"text-align: right;\">\n",
       "      <th></th>\n",
       "      <th>ESR45</th>\n",
       "      <th>ESR52</th>\n",
       "      <th>Nightly_20170828</th>\n",
       "    </tr>\n",
       "  </thead>\n",
       "  <tbody>\n",
       "    <tr>\n",
       "      <th>count</th>\n",
       "      <td>6.000000</td>\n",
       "      <td>6.000000</td>\n",
       "      <td>6.000000</td>\n",
       "    </tr>\n",
       "    <tr>\n",
       "      <th>mean</th>\n",
       "      <td>88.888889</td>\n",
       "      <td>87.037037</td>\n",
       "      <td>79.631667</td>\n",
       "    </tr>\n",
       "    <tr>\n",
       "      <th>std</th>\n",
       "      <td>12.171612</td>\n",
       "      <td>8.364141</td>\n",
       "      <td>10.923264</td>\n",
       "    </tr>\n",
       "    <tr>\n",
       "      <th>min</th>\n",
       "      <td>77.777778</td>\n",
       "      <td>77.777778</td>\n",
       "      <td>66.670000</td>\n",
       "    </tr>\n",
       "    <tr>\n",
       "      <th>25%</th>\n",
       "      <td>77.777778</td>\n",
       "      <td>80.555556</td>\n",
       "      <td>77.780000</td>\n",
       "    </tr>\n",
       "    <tr>\n",
       "      <th>50%</th>\n",
       "      <td>88.888889</td>\n",
       "      <td>88.888889</td>\n",
       "      <td>77.780000</td>\n",
       "    </tr>\n",
       "    <tr>\n",
       "      <th>75%</th>\n",
       "      <td>100.000000</td>\n",
       "      <td>88.888889</td>\n",
       "      <td>77.780000</td>\n",
       "    </tr>\n",
       "    <tr>\n",
       "      <th>max</th>\n",
       "      <td>100.000000</td>\n",
       "      <td>100.000000</td>\n",
       "      <td>100.000000</td>\n",
       "    </tr>\n",
       "  </tbody>\n",
       "</table>\n",
       "</div>"
      ],
      "text/plain": [
       "            ESR45       ESR52  Nightly_20170828\n",
       "count    6.000000    6.000000          6.000000\n",
       "mean    88.888889   87.037037         79.631667\n",
       "std     12.171612    8.364141         10.923264\n",
       "min     77.777778   77.777778         66.670000\n",
       "25%     77.777778   80.555556         77.780000\n",
       "50%     88.888889   88.888889         77.780000\n",
       "75%    100.000000   88.888889         77.780000\n",
       "max    100.000000  100.000000        100.000000"
      ]
     },
     "metadata": {},
     "output_type": "display_data"
    },
    {
     "data": {
      "text/markdown": [
       "### test_firefox_gsearch_ail_select_search_suggestion"
      ]
     },
     "metadata": {},
     "output_type": "display_data"
    },
    {
     "data": {
      "text/html": [
       "<div>\n",
       "<table border=\"1\" class=\"dataframe\">\n",
       "  <thead>\n",
       "    <tr style=\"text-align: right;\">\n",
       "      <th></th>\n",
       "      <th>ESR45</th>\n",
       "      <th>ESR52</th>\n",
       "      <th>Nightly_20170828</th>\n",
       "    </tr>\n",
       "  </thead>\n",
       "  <tbody>\n",
       "    <tr>\n",
       "      <th>count</th>\n",
       "      <td>6.000000</td>\n",
       "      <td>6.000000</td>\n",
       "      <td>6.000000</td>\n",
       "    </tr>\n",
       "    <tr>\n",
       "      <th>mean</th>\n",
       "      <td>20.370370</td>\n",
       "      <td>37.037037</td>\n",
       "      <td>28.703333</td>\n",
       "    </tr>\n",
       "    <tr>\n",
       "      <th>std</th>\n",
       "      <td>8.364141</td>\n",
       "      <td>21.848713</td>\n",
       "      <td>26.855152</td>\n",
       "    </tr>\n",
       "    <tr>\n",
       "      <th>min</th>\n",
       "      <td>11.111111</td>\n",
       "      <td>11.111111</td>\n",
       "      <td>5.560000</td>\n",
       "    </tr>\n",
       "    <tr>\n",
       "      <th>25%</th>\n",
       "      <td>13.888889</td>\n",
       "      <td>33.333333</td>\n",
       "      <td>11.110000</td>\n",
       "    </tr>\n",
       "    <tr>\n",
       "      <th>50%</th>\n",
       "      <td>22.222222</td>\n",
       "      <td>33.333333</td>\n",
       "      <td>22.220000</td>\n",
       "    </tr>\n",
       "    <tr>\n",
       "      <th>75%</th>\n",
       "      <td>22.222222</td>\n",
       "      <td>33.333333</td>\n",
       "      <td>33.330000</td>\n",
       "    </tr>\n",
       "    <tr>\n",
       "      <th>max</th>\n",
       "      <td>33.333333</td>\n",
       "      <td>77.777778</td>\n",
       "      <td>77.780000</td>\n",
       "    </tr>\n",
       "  </tbody>\n",
       "</table>\n",
       "</div>"
      ],
      "text/plain": [
       "           ESR45      ESR52  Nightly_20170828\n",
       "count   6.000000   6.000000          6.000000\n",
       "mean   20.370370  37.037037         28.703333\n",
       "std     8.364141  21.848713         26.855152\n",
       "min    11.111111  11.111111          5.560000\n",
       "25%    13.888889  33.333333         11.110000\n",
       "50%    22.222222  33.333333         22.220000\n",
       "75%    22.222222  33.333333         33.330000\n",
       "max    33.333333  77.777778         77.780000"
      ]
     },
     "metadata": {},
     "output_type": "display_data"
    },
    {
     "data": {
      "text/markdown": [
       "### test_firefox_gsearch_ail_type_searchbox"
      ]
     },
     "metadata": {},
     "output_type": "display_data"
    },
    {
     "data": {
      "text/html": [
       "<div>\n",
       "<table border=\"1\" class=\"dataframe\">\n",
       "  <thead>\n",
       "    <tr style=\"text-align: right;\">\n",
       "      <th></th>\n",
       "      <th>ESR45</th>\n",
       "      <th>ESR52</th>\n",
       "      <th>Nightly_20170828</th>\n",
       "    </tr>\n",
       "  </thead>\n",
       "  <tbody>\n",
       "    <tr>\n",
       "      <th>count</th>\n",
       "      <td>6.000000</td>\n",
       "      <td>6.000000</td>\n",
       "      <td>6.000000</td>\n",
       "    </tr>\n",
       "    <tr>\n",
       "      <th>mean</th>\n",
       "      <td>103.703704</td>\n",
       "      <td>74.074074</td>\n",
       "      <td>16.665000</td>\n",
       "    </tr>\n",
       "    <tr>\n",
       "      <th>std</th>\n",
       "      <td>62.327952</td>\n",
       "      <td>26.912448</td>\n",
       "      <td>6.085198</td>\n",
       "    </tr>\n",
       "    <tr>\n",
       "      <th>min</th>\n",
       "      <td>11.111111</td>\n",
       "      <td>33.333333</td>\n",
       "      <td>11.110000</td>\n",
       "    </tr>\n",
       "    <tr>\n",
       "      <th>25%</th>\n",
       "      <td>75.000000</td>\n",
       "      <td>61.111111</td>\n",
       "      <td>11.110000</td>\n",
       "    </tr>\n",
       "    <tr>\n",
       "      <th>50%</th>\n",
       "      <td>100.000000</td>\n",
       "      <td>77.777778</td>\n",
       "      <td>16.665000</td>\n",
       "    </tr>\n",
       "    <tr>\n",
       "      <th>75%</th>\n",
       "      <td>150.000000</td>\n",
       "      <td>86.111111</td>\n",
       "      <td>22.220000</td>\n",
       "    </tr>\n",
       "    <tr>\n",
       "      <th>max</th>\n",
       "      <td>177.777778</td>\n",
       "      <td>111.111111</td>\n",
       "      <td>22.220000</td>\n",
       "    </tr>\n",
       "  </tbody>\n",
       "</table>\n",
       "</div>"
      ],
      "text/plain": [
       "            ESR45       ESR52  Nightly_20170828\n",
       "count    6.000000    6.000000          6.000000\n",
       "mean   103.703704   74.074074         16.665000\n",
       "std     62.327952   26.912448          6.085198\n",
       "min     11.111111   33.333333         11.110000\n",
       "25%     75.000000   61.111111         11.110000\n",
       "50%    100.000000   77.777778         16.665000\n",
       "75%    150.000000   86.111111         22.220000\n",
       "max    177.777778  111.111111         22.220000"
      ]
     },
     "metadata": {},
     "output_type": "display_data"
    },
    {
     "data": {
      "text/markdown": [
       "### test_firefox_youtube_ail_select_search_suggestion"
      ]
     },
     "metadata": {},
     "output_type": "display_data"
    },
    {
     "data": {
      "text/html": [
       "<div>\n",
       "<table border=\"1\" class=\"dataframe\">\n",
       "  <thead>\n",
       "    <tr style=\"text-align: right;\">\n",
       "      <th></th>\n",
       "      <th>ESR45</th>\n",
       "      <th>ESR52</th>\n",
       "      <th>Nightly_20170828</th>\n",
       "    </tr>\n",
       "  </thead>\n",
       "  <tbody>\n",
       "    <tr>\n",
       "      <th>count</th>\n",
       "      <td>6.000000</td>\n",
       "      <td>6.000000</td>\n",
       "      <td>6.000000</td>\n",
       "    </tr>\n",
       "    <tr>\n",
       "      <th>mean</th>\n",
       "      <td>48.148148</td>\n",
       "      <td>18.518519</td>\n",
       "      <td>19.443333</td>\n",
       "    </tr>\n",
       "    <tr>\n",
       "      <th>std</th>\n",
       "      <td>41.968046</td>\n",
       "      <td>9.072184</td>\n",
       "      <td>12.041800</td>\n",
       "    </tr>\n",
       "    <tr>\n",
       "      <th>min</th>\n",
       "      <td>22.222222</td>\n",
       "      <td>11.111111</td>\n",
       "      <td>5.560000</td>\n",
       "    </tr>\n",
       "    <tr>\n",
       "      <th>25%</th>\n",
       "      <td>33.333333</td>\n",
       "      <td>11.111111</td>\n",
       "      <td>11.110000</td>\n",
       "    </tr>\n",
       "    <tr>\n",
       "      <th>50%</th>\n",
       "      <td>33.333333</td>\n",
       "      <td>16.666667</td>\n",
       "      <td>16.665000</td>\n",
       "    </tr>\n",
       "    <tr>\n",
       "      <th>75%</th>\n",
       "      <td>33.333333</td>\n",
       "      <td>22.222222</td>\n",
       "      <td>30.552500</td>\n",
       "    </tr>\n",
       "    <tr>\n",
       "      <th>max</th>\n",
       "      <td>133.333333</td>\n",
       "      <td>33.333333</td>\n",
       "      <td>33.330000</td>\n",
       "    </tr>\n",
       "  </tbody>\n",
       "</table>\n",
       "</div>"
      ],
      "text/plain": [
       "            ESR45      ESR52  Nightly_20170828\n",
       "count    6.000000   6.000000          6.000000\n",
       "mean    48.148148  18.518519         19.443333\n",
       "std     41.968046   9.072184         12.041800\n",
       "min     22.222222  11.111111          5.560000\n",
       "25%     33.333333  11.111111         11.110000\n",
       "50%     33.333333  16.666667         16.665000\n",
       "75%     33.333333  22.222222         30.552500\n",
       "max    133.333333  33.333333         33.330000"
      ]
     },
     "metadata": {},
     "output_type": "display_data"
    },
    {
     "data": {
      "text/markdown": [
       "### test_firefox_youtube_ail_type_in_search_field"
      ]
     },
     "metadata": {},
     "output_type": "display_data"
    },
    {
     "data": {
      "text/html": [
       "<div>\n",
       "<table border=\"1\" class=\"dataframe\">\n",
       "  <thead>\n",
       "    <tr style=\"text-align: right;\">\n",
       "      <th></th>\n",
       "      <th>ESR45</th>\n",
       "      <th>ESR52</th>\n",
       "      <th>Nightly_20170828</th>\n",
       "    </tr>\n",
       "  </thead>\n",
       "  <tbody>\n",
       "    <tr>\n",
       "      <th>count</th>\n",
       "      <td>6.000000</td>\n",
       "      <td>6.000000</td>\n",
       "      <td>6.000000</td>\n",
       "    </tr>\n",
       "    <tr>\n",
       "      <th>mean</th>\n",
       "      <td>18.518519</td>\n",
       "      <td>16.666667</td>\n",
       "      <td>12.963333</td>\n",
       "    </tr>\n",
       "    <tr>\n",
       "      <th>std</th>\n",
       "      <td>9.072184</td>\n",
       "      <td>9.296223</td>\n",
       "      <td>7.587623</td>\n",
       "    </tr>\n",
       "    <tr>\n",
       "      <th>min</th>\n",
       "      <td>11.111111</td>\n",
       "      <td>11.111111</td>\n",
       "      <td>5.560000</td>\n",
       "    </tr>\n",
       "    <tr>\n",
       "      <th>25%</th>\n",
       "      <td>11.111111</td>\n",
       "      <td>11.111111</td>\n",
       "      <td>6.947500</td>\n",
       "    </tr>\n",
       "    <tr>\n",
       "      <th>50%</th>\n",
       "      <td>16.666667</td>\n",
       "      <td>11.111111</td>\n",
       "      <td>11.110000</td>\n",
       "    </tr>\n",
       "    <tr>\n",
       "      <th>75%</th>\n",
       "      <td>22.222222</td>\n",
       "      <td>19.444444</td>\n",
       "      <td>19.442500</td>\n",
       "    </tr>\n",
       "    <tr>\n",
       "      <th>max</th>\n",
       "      <td>33.333333</td>\n",
       "      <td>33.333333</td>\n",
       "      <td>22.220000</td>\n",
       "    </tr>\n",
       "  </tbody>\n",
       "</table>\n",
       "</div>"
      ],
      "text/plain": [
       "           ESR45      ESR52  Nightly_20170828\n",
       "count   6.000000   6.000000          6.000000\n",
       "mean   18.518519  16.666667         12.963333\n",
       "std     9.072184   9.296223          7.587623\n",
       "min    11.111111  11.111111          5.560000\n",
       "25%    11.111111  11.111111          6.947500\n",
       "50%    16.666667  11.111111         11.110000\n",
       "75%    22.222222  19.444444         19.442500\n",
       "max    33.333333  33.333333         22.220000"
      ]
     },
     "metadata": {},
     "output_type": "display_data"
    }
   ],
   "source": [
    "import json\n",
    "import pandas as pd\n",
    "import matplotlib\n",
    "import matplotlib.pyplot as plt\n",
    "from datetime import datetime\n",
    "from IPython.display import display, display_markdown\n",
    "\n",
    "#\n",
    "# Hide the plotbox if case miss any one data source\n",
    "#\n",
    "HIDE_MISSING_CASE = False\n",
    "\n",
    "#\n",
    "# Input data source\n",
    "#\n",
    "INPUT_SOURCE = [\n",
    "    {\n",
    "        'label': 'ESR45',\n",
    "        'filename': '/Users/Askeing/software/Hasal/temp/ESR/ESR45_20170825.json'\n",
    "    },\n",
    "    {\n",
    "        'label': 'ESR52',\n",
    "        'filename': '/Users/Askeing/software/Hasal/temp/ESR/ESR52_20170825.json'\n",
    "    },\n",
    "    {\n",
    "        'label': 'Nightly_20170828',\n",
    "        'filename': '/Users/Askeing/software/Hasal/temp/ESR/Nightly_20170828.json'\n",
    "    }\n",
    "]\n",
    "\n",
    "#\n",
    "# Data structure:\n",
    "# {\n",
    "#  \"casename_foo\": {\n",
    "#    \"time_list\": [{\"run_time\": 1.1}, {\"run_time\": 1.1}, ...]\n",
    "#  },\n",
    "#  \"casename_bar\": {\n",
    "#    \"time_list\": [{\"run_time\": 1.1}, {\"run_time\": 1.1}, ...]\n",
    "#  },\n",
    "#  ...\n",
    "# }\n",
    "#\n",
    "DATA_LIST = 'time_list'\n",
    "DATA_NAME = 'run_time'\n",
    "\n",
    "#\n",
    "# Definde layout and figure size\n",
    "#\n",
    "layout_row = 1\n",
    "layout_column = 1\n",
    "fig_size_w = 10\n",
    "fig_size_h = 5\n",
    "matplotlib.rcParams.update({'figure.max_open_warning': 0})\n",
    "\n",
    "#\n",
    "# Read data\n",
    "#\n",
    "data_dict = {}\n",
    "for source in INPUT_SOURCE:\n",
    "    label = source.get('label')\n",
    "    filename = source.get('filename')\n",
    "\n",
    "    with open(filename) as f:\n",
    "        data = json.load(f)\n",
    "    remove_data = [\"video-recording-fps\"]\n",
    "    for item in remove_data:\n",
    "        if item in data:\n",
    "            del data[item]\n",
    "    data_dict[label] = data\n",
    "\n",
    "#\n",
    "# generate merged data\n",
    "#\n",
    "casename_list = list(set([casename for lable, data in data_dict.items() for casename in data.keys()]))\n",
    "\n",
    "case_result = []\n",
    "for casename in casename_list:\n",
    "    result = {\n",
    "        \"casename\": casename,\n",
    "        \"result\": {}\n",
    "    }\n",
    "    for lable, data in data_dict.items():\n",
    "        result[\"result\"][lable] = {}\n",
    "    \n",
    "    for lable, data in data_dict.items():\n",
    "        if data.get(casename):\n",
    "            result[\"result\"][lable][DATA_LIST] = data.get(casename).get(DATA_LIST)\n",
    "        else:\n",
    "            result[\"result\"][lable][DATA_LIST] = []\n",
    "    case_result.append(result)\n",
    "\n",
    "#\n",
    "# show original data of each cases\n",
    "#\n",
    "display_markdown('## Merged Result', raw=True)\n",
    "display_markdown('Report Generate Time: {}'.format(datetime.now().strftime('%Y-%m-%d %H:%M:%S')), raw=True)\n",
    "display_markdown('{} Cases'.format(len(case_result)), raw=True)\n",
    "for case in sorted(case_result):\n",
    "    casename = case.get('casename')\n",
    "    result = case.get('result')\n",
    "    d = pd.DataFrame(result)\n",
    "    \n",
    "    # drop empty 'DATA_LIST'\n",
    "    for c in d:\n",
    "        if (d[c][DATA_LIST] == []) :\n",
    "            d.drop(c, axis=1, inplace=True)\n",
    "\n",
    "    # Retrive the value of 'DATA_NAME' from each run\n",
    "    value = pd.DataFrame([pd.DataFrame(d[c][DATA_LIST])[DATA_NAME] for c in d]).T\n",
    "    value.columns = d.columns\n",
    "    # Plot input latency boxplot\n",
    "    value_min = min(value.min())\n",
    "    value_max = max(value.max())\n",
    "    \n",
    "    # When HIDE_MISSING_CASE is enabled, skip the case if the case data less then input data amount.\n",
    "    if HIDE_MISSING_CASE and len(INPUT_SOURCE) > len(value.T):\n",
    "        # display summary\n",
    "        display_markdown('### {}\\nskip draw plot box'.format(casename), raw=True)\n",
    "        display(value.describe())\n",
    "    else:\n",
    "        # draw plot into memory\n",
    "        value.plot.box(subplots=False,\n",
    "                       layout=(layout_row, layout_column),\n",
    "                       sharey=True, sharex=True, figsize=(fig_size_w, fig_size_h),\n",
    "                       ylim=(0, value_max + 100))\n",
    "        plt.title(casename)\n",
    "        \n",
    "        # display summary\n",
    "        display_markdown('### {}'.format(casename), raw=True)\n",
    "        display(value.describe())"
   ]
  },
  {
   "cell_type": "code",
   "execution_count": 2,
   "metadata": {
    "scrolled": false
   },
   "outputs": [
    {
     "data": {
      "image/png": "[encoded data removed]",
      "text/plain": [
       "<matplotlib.figure.Figure at 0x10d52a650>"
      ]
     },
     "metadata": {},
     "output_type": "display_data"
    },
    {
     "data": {
      "image/png": "[encoded data removed]",
      "text/plain": [
       "<matplotlib.figure.Figure at 0x10d7a8e50>"
      ]
     },
     "metadata": {},
     "output_type": "display_data"
    },
    {
     "data": {
      "image/png": "[encoded data removed]",
      "text/plain": [
       "<matplotlib.figure.Figure at 0x10d8e5a50>"
      ]
     },
     "metadata": {},
     "output_type": "display_data"
    },
    {
     "data": {
      "image/png": "[encoded data removed]",
      "text/plain": [
       "<matplotlib.figure.Figure at 0x10d9d0950>"
      ]
     },
     "metadata": {},
     "output_type": "display_data"
    },
    {
     "data": {
      "image/png": "[encoded data removed]",
      "text/plain": [
       "<matplotlib.figure.Figure at 0x10da94fd0>"
      ]
     },
     "metadata": {},
     "output_type": "display_data"
    },
    {
     "data": {
      "image/png": "[encoded data removed]",
      "text/plain": [
       "<matplotlib.figure.Figure at 0x10da949d0>"
      ]
     },
     "metadata": {},
     "output_type": "display_data"
    },
    {
     "data": {
      "image/png": "[encoded data removed]",
      "text/plain": [
       "<matplotlib.figure.Figure at 0x10db81910>"
      ]
     },
     "metadata": {},
     "output_type": "display_data"
    },
    {
     "data": {
      "image/png": "[encoded data removed]",
      "text/plain": [
       "<matplotlib.figure.Figure at 0x10dd73250>"
      ]
     },
     "metadata": {},
     "output_type": "display_data"
    },
    {
     "data": {
      "image/png": "[encoded data removed]",
      "text/plain": [
       "<matplotlib.figure.Figure at 0x10de69cd0>"
      ]
     },
     "metadata": {},
     "output_type": "display_data"
    },
    {
     "data": {
      "image/png": "[encoded data removed]",
      "text/plain": [
       "<matplotlib.figure.Figure at 0x10df380d0>"
      ]
     },
     "metadata": {},
     "output_type": "display_data"
    },
    {
     "data": {
      "image/png": "[encoded data removed]",
      "text/plain": [
       "<matplotlib.figure.Figure at 0x10e021990>"
      ]
     },
     "metadata": {},
     "output_type": "display_data"
    },
    {
     "data": {
      "image/png": "[encoded data removed]",
      "text/plain": [
       "<matplotlib.figure.Figure at 0x10e131890>"
      ]
     },
     "metadata": {},
     "output_type": "display_data"
    },
    {
     "data": {
      "image/png": "[encoded data removed]",
      "text/plain": [
       "<matplotlib.figure.Figure at 0x10e1f6790>"
      ]
     },
     "metadata": {},
     "output_type": "display_data"
    },
    {
     "data": {
      "image/png": "[encoded data removed]",
      "text/plain": [
       "<matplotlib.figure.Figure at 0x10e2e0d10>"
      ]
     },
     "metadata": {},
     "output_type": "display_data"
    },
    {
     "data": {
      "image/png": "[encoded data removed]",
      "text/plain": [
       "<matplotlib.figure.Figure at 0x10e39e090>"
      ]
     },
     "metadata": {},
     "output_type": "display_data"
    },
    {
     "data": {
      "image/png": "[encoded data removed]",
      "text/plain": [
       "<matplotlib.figure.Figure at 0x10e491690>"
      ]
     },
     "metadata": {},
     "output_type": "display_data"
    },
    {
     "data": {
      "image/png": "[encoded data removed]",
      "text/plain": [
       "<matplotlib.figure.Figure at 0x10e589910>"
      ]
     },
     "metadata": {},
     "output_type": "display_data"
    },
    {
     "data": {
      "image/png": "[encoded data removed]",
      "text/plain": [
       "<matplotlib.figure.Figure at 0x10e660790>"
      ]
     },
     "metadata": {},
     "output_type": "display_data"
    },
    {
     "data": {
      "image/png": "[encoded data removed]",
      "text/plain": [
       "<matplotlib.figure.Figure at 0x10e77e390>"
      ]
     },
     "metadata": {},
     "output_type": "display_data"
    },
    {
     "data": {
      "image/png": "[encoded data removed]",
      "text/plain": [
       "<matplotlib.figure.Figure at 0x10e866610>"
      ]
     },
     "metadata": {},
     "output_type": "display_data"
    },
    {
     "data": {
      "image/png": "[encoded data removed]",
      "text/plain": [
       "<matplotlib.figure.Figure at 0x10e953050>"
      ]
     },
     "metadata": {},
     "output_type": "display_data"
    }
   ],
   "source": [
    "# show plot\n",
    "plt.show()"
   ]
  },
  {
   "cell_type": "code",
   "execution_count": null,
   "metadata": {
    "collapsed": true
   },
   "outputs": [],
   "source": []
  }
 ],
 "metadata": {
  "kernelspec": {
   "display_name": "Python 2",
   "language": "python",
   "name": "python2"
  },
  "language_info": {
   "codemirror_mode": {
    "name": "ipython",
    "version": 2
   },
   "file_extension": ".py",
   "mimetype": "text/x-python",
   "name": "python",
   "nbconvert_exporter": "python",
   "pygments_lexer": "ipython2",
   "version": "2.7.13"
  }
 },
 "nbformat": 4,
 "nbformat_minor": 2
}
